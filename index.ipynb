{
 "cells": [
  {
   "cell_type": "markdown",
   "metadata": {},
   "source": [
    "Image analysis jupyter notebook. \n",
    "\n",
    "Ian Dobbie (ian.dobbie@bioch.ox.ac.uk) 2020"
   ]
  },
  {
   "cell_type": "code",
   "execution_count": null,
   "metadata": {},
   "outputs": [],
   "source": [
    "#python comments start with \"#\""
   ]
  },
  {
   "cell_type": "code",
   "execution_count": null,
   "metadata": {},
   "outputs": [],
   "source": [
    "#imports of standard python packages\n",
    "# to allow us to manipulate a large sets of numbers efficently.\n",
    "import numpy as np\n",
    "#package to show images and plots.\n",
    "import matplotlib.pyplot as plt\n",
    "#package to load and save images.\n",
    "import matplotlib.image as mpimg"
   ]
  },
  {
   "cell_type": "code",
   "execution_count": null,
   "metadata": {
    "scrolled": true
   },
   "outputs": [],
   "source": [
    "#simple variable definition in python\n",
    "i=3\n",
    "print (i)"
   ]
  },
  {
   "cell_type": "code",
   "execution_count": null,
   "metadata": {},
   "outputs": [],
   "source": [
    "#prettier print\n",
    "print ('i=',i)"
   ]
  },
  {
   "cell_type": "code",
   "execution_count": null,
   "metadata": {},
   "outputs": [],
   "source": [
    "#Large data sets are much more efficent in numpy\n",
    "#create a 100,100 set of zeros\n",
    "data=np.zeros((100,100))\n",
    "# print the shape of the created array\n",
    "print (data.shape) \n",
    "# object.property access that property of the object"
   ]
  },
  {
   "cell_type": "code",
   "execution_count": null,
   "metadata": {},
   "outputs": [],
   "source": [
    "#individual elements can be accessed like this\n",
    "data[0,0]=10\n",
    "data[0,1]=30\n",
    "#note python start counting at 0!\n",
    "print(data) # prints truncated array; lines can end in comments "
   ]
  },
  {
   "cell_type": "code",
   "execution_count": null,
   "metadata": {},
   "outputs": [],
   "source": [
    "#segments of large arrays can be access\n",
    "print (data[0,0:10])\n"
   ]
  },
  {
   "cell_type": "code",
   "execution_count": null,
   "metadata": {},
   "outputs": [],
   "source": [
    "#load an image\n",
    "img=mpimg.imread('images/coins3.png')\n",
    "#display that image\n",
    "plt.imshow(img)"
   ]
  },
  {
   "cell_type": "code",
   "execution_count": null,
   "metadata": {},
   "outputs": [],
   "source": [
    "#display subset of image\n",
    "plt.imshow(img[50:250,350:550])"
   ]
  },
  {
   "cell_type": "code",
   "execution_count": null,
   "metadata": {},
   "outputs": [],
   "source": [
    "#how large is the image?\n",
    "# .shape is a property of any numpy array, including img\n",
    "print(img.shape)"
   ]
  },
  {
   "cell_type": "code",
   "execution_count": null,
   "metadata": {},
   "outputs": [],
   "source": [
    "#why 4 components to each pixel?\n",
    "print (img[0,0])"
   ]
  },
  {
   "cell_type": "code",
   "execution_count": null,
   "metadata": {},
   "outputs": [],
   "source": [
    "#data is rgb plus alpha channel., lets convert to grayscale. \n",
    "#additions on arrays just work so long as they are the same size. \n",
    "# simply sum r,g,b probabyl not the bes appraoch\n",
    "data=img[:,:,0]+img[:,:,1]+img[:,:,2] \n",
    "plt.imshow(data,cmap='gray') #cmap is the colour map to apply."
   ]
  },
  {
   "cell_type": "markdown",
   "metadata": {},
   "source": [
    "Introduction to functions"
   ]
  },
  {
   "cell_type": "code",
   "execution_count": null,
   "metadata": {},
   "outputs": [],
   "source": [
    "#a basic function definition\n",
    "def square(x):\n",
    "    return(x*x)\n",
    "#function scope is defined by the indentation.\n",
    "print (square(3))"
   ]
  },
  {
   "cell_type": "code",
   "execution_count": null,
   "metadata": {},
   "outputs": [],
   "source": [
    "#functions can take multiple parameters\n",
    "def power(x,y):\n",
    "    return (x**y)\n",
    "print (power(3,3))"
   ]
  },
  {
   "cell_type": "code",
   "execution_count": null,
   "metadata": {},
   "outputs": [],
   "source": [
    "import cv2\n"
   ]
  },
  {
   "cell_type": "code",
   "execution_count": null,
   "metadata": {},
   "outputs": [],
   "source": [
    "import cv2\n",
    "\n",
    "cv_img = cv2.cvtColor(img, cv2.COLOR_RGBA2BGR)\n"
   ]
  },
  {
   "cell_type": "code",
   "execution_count": null,
   "metadata": {},
   "outputs": [],
   "source": []
  }
 ],
 "metadata": {
  "kernelspec": {
   "display_name": "Python 3",
   "language": "python",
   "name": "python3"
  },
  "language_info": {
   "codemirror_mode": {
    "name": "ipython",
    "version": 3
   },
   "file_extension": ".py",
   "mimetype": "text/x-python",
   "name": "python",
   "nbconvert_exporter": "python",
   "pygments_lexer": "ipython3",
   "version": "3.7.7"
  }
 },
 "nbformat": 4,
 "nbformat_minor": 4
}
